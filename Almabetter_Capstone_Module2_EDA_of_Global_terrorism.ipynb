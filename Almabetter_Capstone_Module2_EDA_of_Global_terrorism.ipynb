{
  "nbformat": 4,
  "nbformat_minor": 0,
  "metadata": {
    "colab": {
      "private_outputs": true,
      "provenance": [],
      "collapsed_sections": [
        "MSa1f5Uengrz",
        "lQ7QKXXCp7Bj",
        "KSlN3yHqYklG",
        "t6dVpIINYklI",
        "ijmpgYnKYklI",
        "-JiQyfWJYklI",
        "EM7whBJCYoAo",
        "fge-S5ZAYoAp",
        "85gYPyotYoAp",
        "RoGjAbkUYoAp",
        "4Of9eVA-YrdM",
        "iky9q4vBYrdO",
        "F6T5p64dYrdO",
        "y-Ehk30pYrdP",
        "bamQiAODYuh1",
        "QHF8YVU7Yuh3",
        "GwzvFGzlYuh3",
        "qYpmQ266Yuh3",
        "OH-pJp9IphqM",
        "bbFf2-_FphqN",
        "_ouA3fa0phqN",
        "Seke61FWphqN",
        "PIIx-8_IphqN",
        "t27r6nlMphqO",
        "r2jJGEOYphqO",
        "b0JNsNcRphqO",
        "BZR9WyysphqO",
        "jj7wYXLtphqO",
        "eZrbJ2SmphqO",
        "rFu4xreNphqO",
        "YJ55k-q6phqO",
        "gCFgpxoyphqP",
        "OVtJsKN_phqQ",
        "lssrdh5qphqQ",
        "U2RJ9gkRphqQ",
        "1M8mcRywphqQ",
        "tgIPom80phqQ",
        "JMzcOPDDphqR",
        "x-EpHcCOp1ci",
        "X_VqEhTip1ck",
        "8zGJKyg5p1ck",
        "PVzmfK_Ep1ck",
        "n3dbpmDWp1ck",
        "ylSl6qgtp1ck",
        "ZWILFDl5p1ck",
        "M7G43BXep1ck",
        "Ag9LCva-p1cl",
        "E6MkPsBcp1cl",
        "2cELzS2fp1cl",
        "3MPXvC8up1cl",
        "NC_X3p0fY2L0",
        "UV0SzAkaZNRQ",
        "YPEH6qLeZNRQ",
        "q29F0dvdveiT",
        "EXh0U9oCveiU",
        "22aHeOlLveiV",
        "JcMwzZxoAimU",
        "8G2x9gOozGDZ",
        "gCX9965dhzqZ",
        "gIfDvo9L0UH2"
      ],
      "include_colab_link": true
    },
    "kernelspec": {
      "name": "python3",
      "display_name": "Python 3"
    },
    "language_info": {
      "name": "python"
    }
  },
  "cells": [
    {
      "cell_type": "markdown",
      "metadata": {
        "id": "view-in-github",
        "colab_type": "text"
      },
      "source": [
        "<a href=\"https://colab.research.google.com/github/Dharitri-2022ds/EDA-Global-Terrorism-Analysis-/blob/main/Almabetter_Capstone_Module2_EDA_of_Global_terrorism.ipynb\" target=\"_parent\"><img src=\"https://colab.research.google.com/assets/colab-badge.svg\" alt=\"Open In Colab\"/></a>"
      ]
    },
    {
      "cell_type": "markdown",
      "source": [
        "# **Project Name**    -  **Global Terrorism Analysis**\n"
      ],
      "metadata": {
        "id": "vncDsAP0Gaoa"
      }
    },
    {
      "cell_type": "markdown",
      "source": [
        "##### **Project Type**    - EDA\n",
        "##### **Contribution**    - Individual\n"
      ],
      "metadata": {
        "id": "beRrZCGUAJYm"
      }
    },
    {
      "cell_type": "markdown",
      "source": [
        "# **Project Summary -**\n",
        "The Global Terrorism Database (GTD) is an open-source database including information on terrorist attacks around the world from 1970 through 2017.\n",
        "\n",
        "The GTD includes systematic data on domestic as well as international terrorist incidents that have occurred during this time period and now includes more than 180,000 attacks.\n",
        "\n",
        "The database is maintained by researchers at the National Consortium for the Study of Terrorism and Responses to Terrorism (START), headquartered at the University of Maryland."
      ],
      "metadata": {
        "id": "FJNUwmbgGyua"
      }
    },
    {
      "cell_type": "markdown",
      "source": [
        "Write the summary here within 500-600 words."
      ],
      "metadata": {
        "id": "F6v_1wHtG2nS"
      }
    },
    {
      "cell_type": "markdown",
      "source": [
        "# **GitHub Link -**"
      ],
      "metadata": {
        "id": "w6K7xa23Elo4"
      }
    },
    {
      "cell_type": "markdown",
      "source": [
        "\n",
        "https://github.com/Dharitri-2022ds/EDA-Global-Terrorism-Analysis-"
      ],
      "metadata": {
        "id": "h1o69JH3Eqqn"
      }
    },
    {
      "cell_type": "markdown",
      "source": [
        "# **Problem Statement**\n"
      ],
      "metadata": {
        "id": "yQaldy8SH6Dl"
      }
    },
    {
      "cell_type": "markdown",
      "source": [
        "\n",
        "\n",
        "In this project I am going to analyse Global Terrorism dataset.\n",
        "This dataset contains information about various terrorist activities and attacks, such as location, date, type of attack, target, number of casualities, and more."
      ],
      "metadata": {
        "id": "DpeJGUA3kjGy"
      }
    },
    {
      "cell_type": "markdown",
      "source": [
        "#### **Define Your Business Objective?**"
      ],
      "metadata": {
        "id": "PH-0ReGfmX4f"
      }
    },
    {
      "cell_type": "markdown",
      "source": [
        "The objective of this project is to explore and analyze the data to gain insights and generate visualisations that can help us better understand the nature and trends of global terrorism."
      ],
      "metadata": {
        "id": "PhDvGCAqmjP1"
      }
    },
    {
      "cell_type": "markdown",
      "source": [
        "# **General Guidelines** : -  "
      ],
      "metadata": {
        "id": "mDgbUHAGgjLW"
      }
    },
    {
      "cell_type": "markdown",
      "source": [
        "1.   Well-structured, formatted, and commented code is required.\n",
        "2.   Exception Handling, Production Grade Code & Deployment Ready Code will be a plus. Those students will be awarded some additional credits.\n",
        "     \n",
        "     The additional credits will have advantages over other students during Star Student selection.\n",
        "       \n",
        "             [ Note: - Deployment Ready Code is defined as, the whole .ipynb notebook should be executable in one go\n",
        "                       without a single error logged. ]\n",
        "\n",
        "3.   Each and every logic should have proper comments.\n",
        "4. You may add as many number of charts you want. Make Sure for each and every chart the following format should be answered.\n",
        "        \n",
        "\n",
        "```\n",
        "# Chart visualization code\n",
        "```\n",
        "            \n",
        "\n",
        "*   Why did you pick the specific chart?\n",
        "*   What is/are the insight(s) found from the chart?\n",
        "* Will the gained insights help creating a positive business impact?\n",
        "Are there any insights that lead to negative growth? Justify with specific reason.\n",
        "\n",
        "5. You have to create at least 20 logical & meaningful charts having important insights.\n",
        "\n",
        "\n",
        "[ Hints : - Do the Vizualization in  a structured way while following \"UBM\" Rule.\n",
        "\n",
        "U - Univariate Analysis,\n",
        "\n",
        "B - Bivariate Analysis (Numerical - Categorical, Numerical - Numerical, Categorical - Categorical)\n",
        "\n",
        "M - Multivariate Analysis\n",
        " ]\n",
        "\n",
        "\n",
        "\n"
      ],
      "metadata": {
        "id": "ZrxVaUj-hHfC"
      }
    },
    {
      "cell_type": "markdown",
      "source": [
        "# ***Let's Begin !***"
      ],
      "metadata": {
        "id": "O_i_v8NEhb9l"
      }
    },
    {
      "cell_type": "markdown",
      "source": [
        "## ***1. Know Your Data***"
      ],
      "metadata": {
        "id": "HhfV-JJviCcP"
      }
    },
    {
      "cell_type": "markdown",
      "source": [
        "### Import Libraries"
      ],
      "metadata": {
        "id": "Y3lxredqlCYt"
      }
    },
    {
      "cell_type": "code",
      "source": [
        "# Import Libraries\n",
        "import pandas as pd\n",
        "import missingno as msno\n",
        "import numpy as np\n",
        "\n",
        "import matplotlib.pyplot as plt\n",
        "%matplotlib inline\n",
        "import seaborn as sns\n"
      ],
      "metadata": {
        "id": "M8Vqi-pPk-HR"
      },
      "execution_count": null,
      "outputs": []
    },
    {
      "cell_type": "markdown",
      "source": [
        "### Dataset Loading"
      ],
      "metadata": {
        "id": "3RnN4peoiCZX"
      }
    },
    {
      "cell_type": "code",
      "source": [
        "# Load Dataset\n",
        "#Mount google drive for accessing the dataset of Global Terrorism\n",
        "from google.colab import drive\n",
        "drive.mount('/content/drive')"
      ],
      "metadata": {
        "id": "4CkvbW_SlZ_R"
      },
      "execution_count": null,
      "outputs": []
    },
    {
      "cell_type": "code",
      "source": [
        "#File path of Global Terrorism dataset in google drive\n",
        "drive.mount(\"/content/drive\", force_remount=True)\n",
        "\n",
        "file_path = \"/content/drive/MyDrive/Colab Notebooks/Global Terrorism Data.csv\"\n",
        "df = pd.read_csv(file_path,encoding='latin-1')"
      ],
      "metadata": {
        "id": "7T6SZaIO6odH"
      },
      "execution_count": null,
      "outputs": []
    },
    {
      "cell_type": "markdown",
      "source": [
        "### Dataset First View"
      ],
      "metadata": {
        "id": "x71ZqKXriCWQ"
      }
    },
    {
      "cell_type": "code",
      "source": [
        "# Dataset First Look\n",
        "df.head(5)"
      ],
      "metadata": {
        "id": "LWNFOSvLl09H"
      },
      "execution_count": null,
      "outputs": []
    },
    {
      "cell_type": "markdown",
      "source": [
        "Here we can see the first 5 rows of the dataset. Similarly, we can also view the last 5 rows of the dataset."
      ],
      "metadata": {
        "id": "37drekpz8CMW"
      }
    },
    {
      "cell_type": "code",
      "source": [
        "df.tail(5)"
      ],
      "metadata": {
        "id": "O-IMFlzf79lc"
      },
      "execution_count": null,
      "outputs": []
    },
    {
      "cell_type": "markdown",
      "source": [
        "### Dataset Rows & Columns count"
      ],
      "metadata": {
        "id": "7hBIi_osiCS2"
      }
    },
    {
      "cell_type": "code",
      "source": [
        "# Dataset Rows & Columns count\n",
        "df.shape"
      ],
      "metadata": {
        "id": "Kllu7SJgmLij"
      },
      "execution_count": null,
      "outputs": []
    },
    {
      "cell_type": "markdown",
      "source": [
        "Number of rows in the dataset is 181691.\n",
        "Number of columns in the dataset is 135."
      ],
      "metadata": {
        "id": "Kn1QQoXwCRpR"
      }
    },
    {
      "cell_type": "markdown",
      "source": [
        "### Dataset Information"
      ],
      "metadata": {
        "id": "JlHwYmJAmNHm"
      }
    },
    {
      "cell_type": "code",
      "source": [
        "# Dataset Info\n",
        "df.info()"
      ],
      "metadata": {
        "id": "e9hRXRi6meOf"
      },
      "execution_count": null,
      "outputs": []
    },
    {
      "cell_type": "markdown",
      "source": [
        "#### Duplicate Values"
      ],
      "metadata": {
        "id": "35m5QtbWiB9F"
      }
    },
    {
      "cell_type": "code",
      "source": [
        "# Dataset Duplicate Value Count\n",
        "len(df[df.duplicated()])\n"
      ],
      "metadata": {
        "id": "1sLdpKYkmox0"
      },
      "execution_count": null,
      "outputs": []
    },
    {
      "cell_type": "markdown",
      "source": [
        "Number of duplicate value count: 0"
      ],
      "metadata": {
        "id": "6vvzoW8xCsMJ"
      }
    },
    {
      "cell_type": "markdown",
      "source": [
        "#### Missing Values/Null Values"
      ],
      "metadata": {
        "id": "PoPl-ycgm1ru"
      }
    },
    {
      "cell_type": "code",
      "source": [
        "# Missing Values/Null Values Count\n",
        "print(df.isnull().sum())"
      ],
      "metadata": {
        "id": "GgHWkxvamxVg"
      },
      "execution_count": null,
      "outputs": []
    },
    {
      "cell_type": "markdown",
      "source": [
        "### What did you know about your dataset?\n",
        " This dataset contains 181691 number of rows and 135 number of columns with zero duplicate values."
      ],
      "metadata": {
        "id": "H0kj-8xxnORC"
      }
    },
    {
      "cell_type": "markdown",
      "source": [
        "## ***2. Understanding Your Variables***"
      ],
      "metadata": {
        "id": "nA9Y7ga8ng1Z"
      }
    },
    {
      "cell_type": "code",
      "source": [
        "# Dataset Columns\n",
        "df.columns"
      ],
      "metadata": {
        "id": "j7xfkqrt5Ag5"
      },
      "execution_count": null,
      "outputs": []
    },
    {
      "cell_type": "code",
      "source": [
        "# Dataset Describe\n",
        "df.describe()"
      ],
      "metadata": {
        "id": "DnOaZdaE5Q5t"
      },
      "execution_count": null,
      "outputs": []
    },
    {
      "cell_type": "markdown",
      "source": [
        "# Variables Description"
      ],
      "metadata": {
        "id": "z1HMpa02F3Im"
      }
    },
    {
      "cell_type": "markdown",
      "source": [
        "**eventid:** A unique identifier for each incident.\n",
        "\n",
        "**iyear:** The year in which the incident occurred.\n",
        "\n",
        "**imonth and iday:** The month and the day in which the incident occurred respectively.\n",
        "\n",
        "**country and region:** The country and region where the incident occurred.\n",
        "\n",
        "**provstate:** The province or state where the incident took place.\n",
        "\n",
        "**city:** The city where the incident occurred.\n",
        "\n",
        "**latitude and longitude:** Geographic coordinates of the incident.\n",
        "\n",
        "**specificity:** Indicates the level of geographic specificity(e.g. city, region) of the incident's location.\n",
        "\n",
        "**Attack information:**\n",
        "\n",
        "**attacktype1,attacktype2,attacktype3:** The primary, secondary, and tertiary attack types, categorizing the nature of the attack(assassination, bombing, hijacking).\n",
        "\n",
        "**weaptype1,weaptype2,weaptype3:** The primary, secondary, and tertiary weapon types(e.g. explosives, firearms, chemical weapons).\n",
        "\n",
        "**Target information:**\n",
        "\n",
        "**targtype1,targtype2,targtype3:** The primary, secondary, and tertiary target types of the attack(e.g.civilians, military, govt)\n",
        "\n",
        "**nkill:** The number of confirmed fatalitites in the incident.\n",
        "\n",
        "**nwound:** The number of confirmed injuries in the incident.\n",
        "\n",
        "**nkillter:**The number of perpetrators killed during the incident.\n",
        "\n",
        "**Perpetrator information:**\n",
        "\n",
        "**ngame:** The name of the group responsible for the attack.\n",
        "\n",
        "**motive:** The perceived motive behind the attack.\n",
        "\n",
        "**guncertain1,guncertain2,guncertain3:** Indicates whether the responsible group is uncertain for the primary, secondary, and tertiary groups involved.\n",
        "\n",
        "**Information:**\n",
        "\n",
        "**Summary:** A narrative desription of the incident.\n",
        "\n",
        "**dbsource:** The source of the data for the incident.\n",
        "\n",
        "**related:** Indicates if there is anpther incident in the database.\n",
        "\n",
        "**propextent:** Extent of property damage(e.g.,unknown, major, minor).\n",
        "\n",
        "**propvalue:** Value of the property.\n",
        "\n",
        "**ishostkid:** Indicates whether hostages were taken during the incident.\n",
        "\n",
        "**Miscellaneous information:**\n",
        "\n",
        "**ransom:** Indicates if a ransom was demanded or paid.\n",
        "\n",
        "**ransompaid:**  Amount of ransom paid, if applicable.\n",
        "\n",
        "**hostidoutcome:** hostage-taking incident.\n",
        "\n",
        "\n"
      ],
      "metadata": {
        "id": "aJV4KIxSnxay"
      }
    },
    {
      "cell_type": "markdown",
      "source": [
        "### Check Unique Values for each variable."
      ],
      "metadata": {
        "id": "u3PMJOP6ngxN"
      }
    },
    {
      "cell_type": "code",
      "source": [
        "# Check Unique Values for each variable.\n",
        "for i in df.columns.tolist():\n",
        "  print(\"No. of unique values in \",i,\"is\",df[i].nunique(),\".\")"
      ],
      "metadata": {
        "id": "zms12Yq5n-jE"
      },
      "execution_count": null,
      "outputs": []
    },
    {
      "cell_type": "markdown",
      "source": [
        "## 3. ***Data Wrangling***"
      ],
      "metadata": {
        "id": "dauF4eBmngu3"
      }
    },
    {
      "cell_type": "markdown",
      "source": [
        "### Data Wrangling Code"
      ],
      "metadata": {
        "id": "bKJF3rekwFvQ"
      }
    },
    {
      "cell_type": "code",
      "source": [
        "null_sum= (df.isnull().sum()/len(df)) * 100\n",
        "percent_null= null_sum.sort_values(ascending=False)\n",
        "type(percent_null)\n",
        "\n",
        "high_null_column= percent_null[percent_null > 50]\n",
        "\n",
        "less_than_50_null_column= percent_null[~percent_null.isin(high_null_column)]\n",
        "\n",
        "print(f'Number of columns with less than 50% missing values: {len(less_than_50_null_column)}')\n",
        "less_null_column= less_than_50_null_column.index.tolist()\n",
        "print(less_null_column)"
      ],
      "metadata": {
        "id": "M472gyC-L57N"
      },
      "execution_count": null,
      "outputs": []
    },
    {
      "cell_type": "code",
      "source": [
        "new_df = df[less_null_column]\n"
      ],
      "metadata": {
        "id": "9OZuoQN-M6Ps"
      },
      "execution_count": null,
      "outputs": []
    },
    {
      "cell_type": "code",
      "source": [
        "check= new_df.columns.tolist()"
      ],
      "metadata": {
        "id": "inZUkyovRgsz"
      },
      "execution_count": null,
      "outputs": []
    },
    {
      "cell_type": "code",
      "source": [
        "selected_columns_1 = ['eventid','iyear','imonth','iday','country_txt','region_txt','city','multiple','success','suicide','attacktype1_txt','targtype1_txt','targsubtype1_txt','corp1','target1','natlty1_txt','weaptype1_txt','nkill','nwoundus','claimed','individual','INT_LOG','doubtterr','INT_MISC','specificity','gname','ishostkid','INT_ANY','guncertain1','provstate']"
      ],
      "metadata": {
        "id": "RStP_UsIRqaG"
      },
      "execution_count": null,
      "outputs": []
    },
    {
      "cell_type": "code",
      "source": [
        "len(check)-len(selected_columns_1)"
      ],
      "metadata": {
        "id": "Xgu7iPQtUolG"
      },
      "execution_count": null,
      "outputs": []
    },
    {
      "cell_type": "code",
      "source": [
        "print(list((set(check)) - (set(selected_columns_1))))"
      ],
      "metadata": {
        "id": "ZEPOW67IVkyO"
      },
      "execution_count": null,
      "outputs": []
    },
    {
      "cell_type": "code",
      "source": [
        "df_1= df[selected_columns_1]\n",
        "df_1.T"
      ],
      "metadata": {
        "id": "qna24z9eWlQp"
      },
      "execution_count": null,
      "outputs": []
    },
    {
      "cell_type": "code",
      "source": [
        "(df_1.isnull().sum()/len(df_1))*100"
      ],
      "metadata": {
        "id": "EiOGGW5bYk7y"
      },
      "execution_count": null,
      "outputs": []
    },
    {
      "cell_type": "code",
      "source": [
        "df_1.info()"
      ],
      "metadata": {
        "id": "IiDAR3BvZIA5"
      },
      "execution_count": null,
      "outputs": []
    },
    {
      "cell_type": "markdown",
      "source": [
        "### What all manipulations have you done and insights you found?"
      ],
      "metadata": {
        "id": "MSa1f5Uengrz"
      }
    },
    {
      "cell_type": "markdown",
      "source": [
        "Answer Here."
      ],
      "metadata": {
        "id": "LbyXE7I1olp8"
      }
    },
    {
      "cell_type": "markdown",
      "source": [
        "## ***4. Data Vizualization, Storytelling & Experimenting with charts : Understand the relationships between variables***"
      ],
      "metadata": {
        "id": "GF8Ens_Soomf"
      }
    },
    {
      "cell_type": "markdown",
      "source": [
        "#### Chart - 1- **Counting Terrorist Attack Per Year**"
      ],
      "metadata": {
        "id": "0wOQAZs5pc--"
      }
    },
    {
      "cell_type": "code",
      "source": [
        "# Chart - 1 visualization code\n",
        "#Calculate attacks per year\n",
        "attack_per_year = df_1['iyear'].value_counts().sort_index()\n"
      ],
      "metadata": {
        "id": "7v_ESjsspbW7"
      },
      "execution_count": null,
      "outputs": []
    },
    {
      "cell_type": "code",
      "source": [
        "# Set figure size\n",
        "plt.rcParams['figure.figsize'] = (12, 5)\n",
        "\n",
        "\n",
        "ax = sns.countplot(x='iyear', data=df_1,palette='viridis')\n",
        "\n",
        "ax.set(xlabel='Year', ylabel='Number of Terrorist Attack')\n",
        "plt.xticks(rotation=90)\n",
        "ax.set_title('Number of Terrorist Attacks Per Year', fontsize=15)\n",
        "plt.show()"
      ],
      "metadata": {
        "id": "hBzMZFbcw-6M"
      },
      "execution_count": null,
      "outputs": []
    },
    {
      "cell_type": "markdown",
      "source": [
        "##### 1. Why did you pick the specific chart?"
      ],
      "metadata": {
        "id": "K5QZ13OEpz2H"
      }
    },
    {
      "cell_type": "markdown",
      "source": [
        "This chart provides a clearer representation of the variation of terrorist attacks over the years."
      ],
      "metadata": {
        "id": "XESiWehPqBRc"
      }
    },
    {
      "cell_type": "markdown",
      "source": [
        "##### 2. What is/are the insight(s) found from the chart?"
      ],
      "metadata": {
        "id": "lQ7QKXXCp7Bj"
      }
    },
    {
      "cell_type": "code",
      "source": [
        "# Calculate the count of terrorist attacks per year and store it as a dictionary.\n",
        "count_year= df_1['iyear'].value_counts().to_dict()\n",
        "\n",
        "# Calculate the percentage increase in attacks from 1970 to 2017.\n",
        "rate= ((count_year[2017]-count_year[1970])/count_year[1970])* 100\n",
        "\n",
        "# Print the counts of attacks in 1970 and 2017.\n",
        "print(count_year[1970],'attacks happened in 1970 &',count_year[2017],'attacks happened in 2017')\n",
        "\n",
        "# Print the percentage increase in attacks from 1970 to 2017.\n",
        "print('So the number of attacks has increased by',np.round(rate,2),'% from 1970 to 2017')"
      ],
      "metadata": {
        "id": "gx9bw__ibAXz"
      },
      "execution_count": null,
      "outputs": []
    },
    {
      "cell_type": "code",
      "source": [
        "# Calculate the average number of terror attacks per year for the initial five years from 1970 to 1975.\n",
        "terror_attack_first_5_years = df_1[df_1['iyear'] <= 1975]['iyear'].value_counts().mean()\n",
        "\n",
        "# Display the calculated average number of terror attacks for the specified period\n",
        "print(f\"The average number of terror attacks per year for the first five years (1970-1975) is: {terror_attack_first_5_years}\")\n",
        "\n",
        "#Calculating Overall Average(1970-2017)\n",
        "mean_of_terror_attack = df_1['iyear'].value_counts().mean()\n",
        "print(f\"The overall average number of terror attacks per year from 1970 to 2017 is: {mean_of_terror_attack}\")\n",
        "\n",
        "# Calculating the average number of terrorists attack per year for the last 5 years(2013-2017).\n",
        "terror_attack_last_5_years = df_1[df_1['iyear'] >= 2013]['iyear'].value_counts().mean()\n",
        "\n",
        "# Display the calculated average number of terror attacks for the specified period\n",
        "print(f\"The average number of terror attacks per year for the last five years (2013-2017) is: {terror_attack_last_5_years}\")"
      ],
      "metadata": {
        "id": "s5_Z-CkiclJy"
      },
      "execution_count": null,
      "outputs": []
    },
    {
      "cell_type": "markdown",
      "source": [
        "### Insights found from the chart:\n",
        "- 651 attacks happened in 1970 & 10900 attacks happened in 2017.\n",
        "- So the number of attacks has increased by 1574.35 % from 1970 to 2017.\n",
        "- The average number of terror attacks per year for the first five years (1970-1975) is: 580.6666666666666\n",
        "- The overall average number of terror attacks per year from 1970 to 2017 is: 3865.7659574468084\n",
        "- The average number of terror attacks per year for the last five years (2013-2017) is: 13678.2"
      ],
      "metadata": {
        "id": "C_j1G7yiqdRP"
      }
    },
    {
      "cell_type": "markdown",
      "source": [
        "##### 3. Will the gained insights help creating a positive business impact?\n",
        "Are there any insights that lead to negative growth? Justify with specific reason."
      ],
      "metadata": {
        "id": "448CDAPjqfQr"
      }
    },
    {
      "cell_type": "markdown",
      "source": [
        "**Answer Here.**\n",
        "\n",
        "From the year 1970, there is a wave of rise in terrorist activities till 1992 then till 2004 there is a drop in terrorist activities and from 2004 to 2015 there is a steeper wave of rise in terrorist activities.\n",
        "\n",
        "No there are no insights that to negative growth.\n",
        "\n",
        "From the above pattern of waves of terrorist activities it seems that there could be possibility of drop in terrorist activities and again there is a rise in terrorist activities which is much steeper and larger than previous two waves.\n",
        "\n",
        "Over the years, number of Terrorist attacks are increasing which means that measures taken to prevent attacks are not enough.\n",
        "\n",
        "There need to be taken more preventive measures against these terrorist groups and smuggling of weapons."
      ],
      "metadata": {
        "id": "RZl2TNVJ2D-9"
      }
    },
    {
      "cell_type": "markdown",
      "source": [
        "#### Chart - 2  Top 30 countries via Number of attacks"
      ],
      "metadata": {
        "id": "KSlN3yHqYklG"
      }
    },
    {
      "cell_type": "code",
      "source": [
        "# Chart - 2 visualization code\n",
        "\n",
        "ax= plt.rcParams['figure.figsize'] = (12, 5)\n",
        "\n",
        "\n",
        "ax = sns.countplot(x='country_txt', data=df_1,order=df_1['country_txt'].value_counts().index[:30], palette='colorblind')\n",
        "\n",
        "ax.set(xlabel='Country', ylabel='Count of Terrorist Attack')\n",
        "plt.xticks(rotation=75)\n",
        "ax.set_title('Top 30 Country via Number of Attacks ', fontsize=15)\n",
        "plt.show()\n",
        "\n"
      ],
      "metadata": {
        "id": "R4YgtaqtYklH"
      },
      "execution_count": null,
      "outputs": []
    },
    {
      "cell_type": "markdown",
      "source": [
        " ##### 1. Why did you pick the specific chart?\n",
        " **Answer Here.**\n",
        " A bar graph, especially when ordered by count, effectively highlights this ranking and makes it easy to identify the countries with the most attacks.\n",
        "\n",
        " This is categorical data (countries) with a numerical value associated (number of attacks). Bar graphs excel at representing this type of data clearly."
      ],
      "metadata": {
        "id": "0ANPMeOoDdTG"
      }
    },
    {
      "cell_type": "markdown",
      "source": [
        "2. What is/are the insight(s) found from the chart?\n",
        "\n",
        "**Answer Here.**\n",
        "\n",
        "- Iraq faces the highest number of terrorist attacks, followed by Pakistan, then Afghanistan.\n",
        "- South Africa and Nicargua faces the least number of terrorist attacks.\n",
        "\n"
      ],
      "metadata": {
        "id": "Ky_c_JRtYBTt"
      }
    },
    {
      "cell_type": "markdown",
      "source": [
        "#### Chart - 3  Region via Number of attacks"
      ],
      "metadata": {
        "id": "EM7whBJCYoAo"
      }
    },
    {
      "cell_type": "code",
      "source": [
        "terror_region = pd.crosstab(df_1['iyear'],df_1['region_txt'])\n",
        "terror_region.plot(color= sns.color_palette('bright',12),kind='area')\n",
        "fig = plt.gcf()\n",
        "fig.set_size_inches(15,6)\n",
        "plt.title('Variation in the Number of Terrorist Activities Across Regions Over the Year')\n",
        "plt.ylabel('Number of Attacks')\n",
        "plt.xlabel('Year')\n",
        "plt.show()"
      ],
      "metadata": {
        "id": "Kjap6DXE5BuD"
      },
      "execution_count": null,
      "outputs": []
    },
    {
      "cell_type": "markdown",
      "source": [
        "##### 1. Why did you pick the specific chart?\n",
        "\n",
        "**Answer Here.**\n",
        "\n",
        "It effectively displays the overall trend of terrorist activities for each region over the years. The filled areas provide a clear visual representation of the rise and fall in the number of attacks."
      ],
      "metadata": {
        "id": "dP4j1OXvahrU"
      }
    },
    {
      "cell_type": "markdown",
      "source": [
        "#### Chart - 4   Most Frequent Used Weapons in Attacks"
      ],
      "metadata": {
        "id": "4Of9eVA-YrdM"
      }
    },
    {
      "cell_type": "code",
      "source": [
        "# Chart - 4 visualization code\n",
        "ax= plt.rcParams['figure.figsize'] = (12, 5)\n",
        "\n",
        "\n",
        "ax = sns.countplot(x='weaptype1_txt', data=df_1,order=df_1['weaptype1_txt'].value_counts().index[:6], palette='colorblind')\n",
        "\n",
        "ax.set(xlabel='Weapon', ylabel='Count')\n",
        "plt.xticks(rotation=75)\n",
        "ax.set_title('Most Frequent Used Weapon in Attacks ', fontsize=15)\n",
        "plt.show()"
      ],
      "metadata": {
        "id": "irlUoxc8YrdO"
      },
      "execution_count": null,
      "outputs": []
    },
    {
      "cell_type": "markdown",
      "source": [
        "##### 1. Why did you pick the specific chart?"
      ],
      "metadata": {
        "id": "iky9q4vBYrdO"
      }
    },
    {
      "cell_type": "markdown",
      "source": [
        "Answer Here.\n",
        "\n",
        "Because we are trying to visualize the count of different weapon types used in attacks."
      ],
      "metadata": {
        "id": "aJRCwT6DYrdO"
      }
    },
    {
      "cell_type": "markdown",
      "source": [
        "##### 2. What is/are the insight(s) found from the chart?"
      ],
      "metadata": {
        "id": "F6T5p64dYrdO"
      }
    },
    {
      "cell_type": "markdown",
      "source": [
        "Most frequent weapon used in terrorist attack is Explosives followed by Firearms and least used is chemical."
      ],
      "metadata": {
        "id": "Xx8WAJvtYrdO"
      }
    },
    {
      "cell_type": "markdown",
      "source": [
        "##### 3. Will the gained insights help creating a positive business impact?\n",
        "Are there any insights that lead to negative growth? Justify with specific reason."
      ],
      "metadata": {
        "id": "y-Ehk30pYrdP"
      }
    },
    {
      "cell_type": "markdown",
      "source": [
        "Answer Here"
      ],
      "metadata": {
        "id": "jLNxxz7MYrdP"
      }
    },
    {
      "cell_type": "markdown",
      "source": [
        "#### Chart - 5  Most Frequent Target of Terrorist.\n",
        "\n",
        "\n",
        "\n"
      ],
      "metadata": {
        "id": "bamQiAODYuh1"
      }
    },
    {
      "cell_type": "code",
      "source": [
        "# Chart - 5 visualization code\n",
        "ax= plt.rcParams['figure.figsize'] = (12, 5)\n",
        "\n",
        "\n",
        "ax = sns.countplot(x='targtype1_txt', data=df_1,order=df_1['targtype1_txt'].value_counts().index, palette='flare')\n",
        "\n",
        "ax.set(xlabel='Type of Targets', ylabel='Count')\n",
        "plt.xticks(rotation=75)\n",
        "ax.set_title('Most Frequent Target of Terrorist', fontsize=15)\n",
        "plt.show()"
      ],
      "metadata": {
        "id": "TIJwrbroYuh3"
      },
      "execution_count": null,
      "outputs": []
    },
    {
      "cell_type": "markdown",
      "source": [
        "##### 1. Why did you pick the specific chart?"
      ],
      "metadata": {
        "id": "QHF8YVU7Yuh3"
      }
    },
    {
      "cell_type": "markdown",
      "source": [
        "Answer Here.\n",
        "\n",
        "Countplots allow for easy comparison of the frequency or count of each target type. This helps quickly identify the most and least targeted categories."
      ],
      "metadata": {
        "id": "dcxuIMRPYuh3"
      }
    },
    {
      "cell_type": "markdown",
      "source": [
        "##### 2. What is/are the insight(s) found from the chart?"
      ],
      "metadata": {
        "id": "GwzvFGzlYuh3"
      }
    },
    {
      "cell_type": "markdown",
      "source": [
        "Most Frequent target of terrorist is Private Citizens & Property, followed by Military and then Police."
      ],
      "metadata": {
        "id": "uyqkiB8YYuh3"
      }
    },
    {
      "cell_type": "markdown",
      "source": [
        "##### 3. Will the gained insights help creating a positive business impact?\n",
        "Are there any insights that lead to negative growth? Justify with specific reason."
      ],
      "metadata": {
        "id": "qYpmQ266Yuh3"
      }
    },
    {
      "cell_type": "markdown",
      "source": [
        "Answer Here.\n",
        "\n",
        "  Knowing that private citizens and property are the most frequent targets of terrorism highlights the widespread impact of these attacks and the need for comprehensive security measures.\n",
        "\n",
        "This understanding can inform strategies for:\n",
        "- Increased security measures in public areas, transportation hubs, and other places where people gather.\n",
        "- Building partnerships between law enforcement and communities to enhance vigilance and response capabilities.\n",
        "\n",
        " This could help in creating a business with potential development and growth in these areas alongwith providing the citizens with employment opportunities.  \n"
      ],
      "metadata": {
        "id": "_WtzZ_hCYuh4"
      }
    },
    {
      "cell_type": "markdown",
      "source": [
        "#### Chart - 6  Most Frequent Type of Attacks"
      ],
      "metadata": {
        "id": "OH-pJp9IphqM"
      }
    },
    {
      "cell_type": "code",
      "source": [
        "# Chart - 6 visualization code\n",
        "ax= plt.rcParams['figure.figsize'] = (12, 5)\n",
        "\n",
        "\n",
        "ax = sns.countplot(x='attacktype1_txt', data=df_1,order=df_1['attacktype1_txt'].value_counts().index, palette='flare')\n",
        "\n",
        "ax.set(xlabel='Type of Attack', ylabel='Count')\n",
        "plt.xticks(rotation=75)\n",
        "ax.set_title('Most Frequent Type of Attacks ', fontsize=15)\n",
        "plt.show()"
      ],
      "metadata": {
        "id": "kuRf4wtuphqN"
      },
      "execution_count": null,
      "outputs": []
    },
    {
      "cell_type": "markdown",
      "source": [
        "##### 1. Why did you pick the specific chart?"
      ],
      "metadata": {
        "id": "bbFf2-_FphqN"
      }
    },
    {
      "cell_type": "markdown",
      "source": [
        "Answer Here."
      ],
      "metadata": {
        "id": "loh7H2nzphqN"
      }
    },
    {
      "cell_type": "markdown",
      "source": [
        "##### 2. What is/are the insight(s) found from the chart?"
      ],
      "metadata": {
        "id": "_ouA3fa0phqN"
      }
    },
    {
      "cell_type": "markdown",
      "source": [
        "Most frequent type of attack is Bombing/Explosion, followed by Armed Assault and then Assasination."
      ],
      "metadata": {
        "id": "VECbqPI7phqN"
      }
    },
    {
      "cell_type": "markdown",
      "source": [
        "##### 3. Will the gained insights help creating a positive business impact?\n",
        "Are there any insights that lead to negative growth? Justify with specific reason."
      ],
      "metadata": {
        "id": "Seke61FWphqN"
      }
    },
    {
      "cell_type": "markdown",
      "source": [
        "Answer Here"
      ],
      "metadata": {
        "id": "DW4_bGpfphqN"
      }
    },
    {
      "cell_type": "code",
      "source": [
        "df_1['gname'].value_counts()"
      ],
      "metadata": {
        "id": "LaVhWOBXMWP6"
      },
      "execution_count": null,
      "outputs": []
    },
    {
      "cell_type": "markdown",
      "source": [
        "#### Chart - 7  Most Number of Attacks Done By Terrorist Organisation"
      ],
      "metadata": {
        "id": "PIIx-8_IphqN"
      }
    },
    {
      "cell_type": "code",
      "source": [
        "# Chart - 7 visualization code\n",
        "ax= plt.rcParams['figure.figsize'] = (16, 8)\n",
        "\n",
        "\n",
        "ax = sns.countplot(y='gname', data=df_1,order=df_1['gname'].value_counts().index[1:50], palette='flare')\n",
        "\n",
        "ax.set(xlabel='Type of Attack', ylabel='Count')\n",
        "plt.xticks(rotation=75)\n",
        "ax.set_title('Most Frequent Type of Attacks ', fontsize=15)\n",
        "plt.show()"
      ],
      "metadata": {
        "id": "lqAIGUfyphqO"
      },
      "execution_count": null,
      "outputs": []
    },
    {
      "cell_type": "markdown",
      "source": [
        "##### 1. Why did you pick the specific chart?"
      ],
      "metadata": {
        "id": "t27r6nlMphqO"
      }
    },
    {
      "cell_type": "markdown",
      "source": [
        "Answer Here."
      ],
      "metadata": {
        "id": "iv6ro40sphqO"
      }
    },
    {
      "cell_type": "markdown",
      "source": [
        "##### 2. What is/are the insight(s) found from the chart?"
      ],
      "metadata": {
        "id": "r2jJGEOYphqO"
      }
    },
    {
      "cell_type": "markdown",
      "source": [
        "Most number of terrorist attacks done by Taliban, followed by Islamic State Of Iraq And Levant(ISIL), and then by Shining Path(SL)."
      ],
      "metadata": {
        "id": "Po6ZPi4hphqO"
      }
    },
    {
      "cell_type": "markdown",
      "source": [
        "##### 3. Will the gained insights help creating a positive business impact?\n",
        "Are there any insights that lead to negative growth? Justify with specific reason."
      ],
      "metadata": {
        "id": "b0JNsNcRphqO"
      }
    },
    {
      "cell_type": "markdown",
      "source": [
        "Answer Here"
      ],
      "metadata": {
        "id": "xvSq8iUTphqO"
      }
    },
    {
      "cell_type": "code",
      "source": [
        "print('\\n')\n",
        "print(('*')*20)\n",
        "print('Value count of Object Type Category which if greater than 50')\n",
        "print('\\n')\n",
        "print(('*')*20)\n",
        "cat_col= df_1.select_dtypes('object').columns.to_list()\n",
        "for col in cat_col:\n",
        "  if len(df_1[col].value_counts()) < 50:\n",
        "    print(df_1[col].value_counts())\n",
        "    print('\\n')\n",
        "    print(('*')*20)"
      ],
      "metadata": {
        "id": "MsE-nByxP9q_"
      },
      "execution_count": null,
      "outputs": []
    },
    {
      "cell_type": "markdown",
      "source": [
        "#### Chart - 8  Showing Successful Terrorist Attack"
      ],
      "metadata": {
        "id": "BZR9WyysphqO"
      }
    },
    {
      "cell_type": "code",
      "source": [
        "# Chart - 8 visualization code\n",
        "ax= df_1['success'].value_counts().plot(kind='pie')\n",
        "ax.set_title('Successful Terrorist Attack',fontsize=12)\n",
        "plt.show()"
      ],
      "metadata": {
        "id": "TdPTWpAVphqO"
      },
      "execution_count": null,
      "outputs": []
    },
    {
      "cell_type": "markdown",
      "source": [
        "##### 1. Why did you pick the specific chart?"
      ],
      "metadata": {
        "id": "jj7wYXLtphqO"
      }
    },
    {
      "cell_type": "markdown",
      "source": [
        "Answer Here."
      ],
      "metadata": {
        "id": "Ob8u6rCTphqO"
      }
    },
    {
      "cell_type": "markdown",
      "source": [
        "##### 2. What is/are the insight(s) found from the chart?"
      ],
      "metadata": {
        "id": "eZrbJ2SmphqO"
      }
    },
    {
      "cell_type": "markdown",
      "source": [],
      "metadata": {
        "id": "mZtgC_hjphqO"
      }
    },
    {
      "cell_type": "markdown",
      "source": [
        "##### 3. Will the gained insights help creating a positive business impact?\n",
        "Are there any insights that lead to negative growth? Justify with specific reason."
      ],
      "metadata": {
        "id": "rFu4xreNphqO"
      }
    },
    {
      "cell_type": "markdown",
      "source": [
        "Answer Here"
      ],
      "metadata": {
        "id": "ey_0qi68phqO"
      }
    },
    {
      "cell_type": "markdown",
      "source": [
        "#### Chart - 9  Number of Multiple Attack"
      ],
      "metadata": {
        "id": "YJ55k-q6phqO"
      }
    },
    {
      "cell_type": "code",
      "source": [
        "# Chart - 9 visualization code\n",
        "ax= df_1['multiple'].value_counts().plot(kind='pie')\n",
        "ax.set_title('Number of Multiple Attack',fontsize=12)\n",
        "plt.show()"
      ],
      "metadata": {
        "id": "B2aS4O1ophqO"
      },
      "execution_count": null,
      "outputs": []
    },
    {
      "cell_type": "markdown",
      "source": [
        "##### 1. Why did you pick the specific chart?"
      ],
      "metadata": {
        "id": "gCFgpxoyphqP"
      }
    },
    {
      "cell_type": "markdown",
      "source": [
        "Answer Here."
      ],
      "metadata": {
        "id": "TVxDimi2phqP"
      }
    },
    {
      "cell_type": "markdown",
      "source": [
        "##### 2. What is/are the insight(s) found from the chart?"
      ],
      "metadata": {
        "id": "OVtJsKN_phqQ"
      }
    },
    {
      "cell_type": "markdown",
      "source": [
        "Answer Here"
      ],
      "metadata": {
        "id": "ngGi97qjphqQ"
      }
    },
    {
      "cell_type": "markdown",
      "source": [
        "##### 3. Will the gained insights help creating a positive business impact?\n",
        "Are there any insights that lead to negative growth? Justify with specific reason."
      ],
      "metadata": {
        "id": "lssrdh5qphqQ"
      }
    },
    {
      "cell_type": "markdown",
      "source": [
        "Answer Here"
      ],
      "metadata": {
        "id": "tBpY5ekJphqQ"
      }
    },
    {
      "cell_type": "markdown",
      "source": [
        "#### Chart - 10  Number Of Suicide Attack"
      ],
      "metadata": {
        "id": "U2RJ9gkRphqQ"
      }
    },
    {
      "cell_type": "code",
      "source": [
        "# Chart - 10 visualization code\n",
        "ax= df_1['suicide'].value_counts().plot(kind='pie')\n",
        "ax.set_title('Number of Suicide Attack',fontsize=12)\n",
        "plt.show()"
      ],
      "metadata": {
        "id": "GM7a4YP4phqQ"
      },
      "execution_count": null,
      "outputs": []
    },
    {
      "cell_type": "markdown",
      "source": [
        "##### 1. Why did you pick the specific chart?"
      ],
      "metadata": {
        "id": "1M8mcRywphqQ"
      }
    },
    {
      "cell_type": "markdown",
      "source": [
        "Answer Here."
      ],
      "metadata": {
        "id": "8agQvks0phqQ"
      }
    },
    {
      "cell_type": "markdown",
      "source": [
        "##### 2. What is/are the insight(s) found from the chart?"
      ],
      "metadata": {
        "id": "tgIPom80phqQ"
      }
    },
    {
      "cell_type": "markdown",
      "source": [
        "Answer Here"
      ],
      "metadata": {
        "id": "Qp13pnNzphqQ"
      }
    },
    {
      "cell_type": "markdown",
      "source": [
        "##### 3. Will the gained insights help creating a positive business impact?\n",
        "Are there any insights that lead to negative growth? Justify with specific reason."
      ],
      "metadata": {
        "id": "JMzcOPDDphqR"
      }
    },
    {
      "cell_type": "markdown",
      "source": [
        "Answer Here"
      ],
      "metadata": {
        "id": "R4Ka1PC2phqR"
      }
    },
    {
      "cell_type": "markdown",
      "source": [
        "# Countries Performance Against Terrorist Attacks"
      ],
      "metadata": {
        "id": "h2xUgJd5VWQZ"
      }
    },
    {
      "cell_type": "code",
      "source": [
        "success_country= df_1.groupby('country_txt').agg({'eventid':'count','success':'sum'}).reset_index()\n",
        "success_country.columns=['Country','Total_Attacks','Attack_Success']\n",
        "success_country['Attack_Failed']=success_country['Total_Attacks']-success_country['Attack_Success']\n",
        "success_country['Failure_Rate_Attack']=(success_country['Attack_Failed']/success_country['Total_Attacks'])*100\n",
        "success_country['Success_Rate_Attack']=(success_country['Attack_Success']/success_country['Total_Attacks'])*100\n",
        "success_country= success_country.round(2)\n"
      ],
      "metadata": {
        "id": "XpZa5pWBTqel"
      },
      "execution_count": null,
      "outputs": []
    },
    {
      "cell_type": "markdown",
      "source": [
        "## Top 10 Countries Able to Successfully Tackle Terrorist Attack"
      ],
      "metadata": {
        "id": "cdEZjzbrV01B"
      }
    },
    {
      "cell_type": "code",
      "source": [
        "able_stop_terror_attack = success_country[success_country['Total_Attacks']>=5].sort_values('Failure_Rate_Attack',ascending=False)[:10]\n",
        "plot_able_stop_terror_attack = able_stop_terror_attack.loc[:,['Country','Failure_Rate_Attack']]\n",
        "ax=plt.rcParams['figure.figsize']=12,5\n",
        "ax=sns.barplot(x='Country',y='Failure_Rate_Attack',data=plot_able_stop_terror_attack,palette='viridis')\n",
        "ax.set(xlabel='Countries', ylabel='Rate of Failure of Terror Attack')\n",
        "plt.xticks(rotation=75)\n",
        "ax.set_title('Top 10 Countries Able to Scuccessfully Tackle Terrorist Attack(\"More Than 5 Attack\")', fontsize=15)\n",
        "plt.show()\n",
        "\n"
      ],
      "metadata": {
        "id": "y-MY6aNVWF3L"
      },
      "execution_count": null,
      "outputs": []
    },
    {
      "cell_type": "markdown",
      "source": [
        "Country who successfully tackle terrorist attack is Brunei, followed by Ireland and then by New Zealand."
      ],
      "metadata": {
        "id": "x-EpHcCOp1ci"
      }
    },
    {
      "cell_type": "markdown",
      "source": [
        "## Top 10 Countries Unable to Tackle Terrorist Attack"
      ],
      "metadata": {
        "id": "0BotOvjG0513"
      }
    },
    {
      "cell_type": "code",
      "source": [
        "unable_stop_terror_attack = success_country[success_country['Total_Attacks']>=5].sort_values('Success_Rate_Attack',ascending=False)[:10]\n",
        "plot_unable_stop_terror_attack = unable_stop_terror_attack.loc[:,['Country','Success_Rate_Attack','Total_Attacks']]\n",
        "ax=plt.rcParams['figure.figsize']=12,5\n",
        "ax=sns.barplot(x='Country',y='Success_Rate_Attack',data=plot_unable_stop_terror_attack,palette='viridis')\n",
        "ax.set(xlabel='Countries', ylabel='Rate of Success of Terror Attack')\n",
        "plt.xticks(rotation=75)\n",
        "ax.set_title('Top 10 Countries Unable to Tackle Terrorist Attack(\"More Than 5 Attack\")', fontsize=15)\n",
        "plt.show()"
      ],
      "metadata": {
        "id": "mAQTIvtqp1cj"
      },
      "execution_count": null,
      "outputs": []
    },
    {
      "cell_type": "markdown",
      "source": [
        "##### 1. Why did you pick the specific chart?"
      ],
      "metadata": {
        "id": "X_VqEhTip1ck"
      }
    },
    {
      "cell_type": "markdown",
      "source": [
        "Answer Here."
      ],
      "metadata": {
        "id": "-vsMzt_np1ck"
      }
    },
    {
      "cell_type": "markdown",
      "source": [
        "##### 2. What is/are the insight(s) found from the chart?"
      ],
      "metadata": {
        "id": "8zGJKyg5p1ck"
      }
    },
    {
      "cell_type": "markdown",
      "source": [
        "Country which is not able to tackle terrorist attack is Benin(South Africa), followed by Bhutan and then by Djibouti(East Africa)."
      ],
      "metadata": {
        "id": "ZYdMsrqVp1ck"
      }
    },
    {
      "cell_type": "markdown",
      "source": [
        "##### 3. Will the gained insights help creating a positive business impact?\n",
        "Are there any insights that lead to negative growth? Justify with specific reason."
      ],
      "metadata": {
        "id": "PVzmfK_Ep1ck"
      }
    },
    {
      "cell_type": "markdown",
      "source": [
        "## Trends in Terrorist Attack"
      ],
      "metadata": {
        "id": "druuKYZpp1ck"
      }
    },
    {
      "cell_type": "code",
      "source": [
        "attack_per_year=df_1.groupby(['iyear','targtype1_txt','target1','success','weaptype1_txt','gname'])['eventid'].count().to_frame(name='Total_Attacks').reset_index()\n"
      ],
      "metadata": {
        "id": "bbRaAmzD3R9f"
      },
      "execution_count": null,
      "outputs": []
    },
    {
      "cell_type": "code",
      "source": [
        "ax= sns.relplot(col=\"weaptype1_txt\",y=\"Total_Attacks\",col_wrap=4,hue='weaptype1_txt',x=\"iyear\",kind='line',ci=None,data=attack_per_year,height=4,aspect=1)\n",
        "ax.set_xticklabels(rotation=45)\n",
        "plt.show()"
      ],
      "metadata": {
        "id": "rsvr8VeP4aG4"
      },
      "execution_count": null,
      "outputs": []
    },
    {
      "cell_type": "markdown",
      "source": [
        "#### Chart - 12"
      ],
      "metadata": {
        "id": "n3dbpmDWp1ck"
      }
    },
    {
      "cell_type": "code",
      "source": [
        "# Chart - 12 visualization code\n",
        "ax= sns.relplot(col=\"targtype1_txt\",y=\"Total_Attacks\",col_wrap=5,hue='targtype1_txt',x=\"iyear\",kind='line',ci=None,data=attack_per_year,height=4,aspect=1)\n",
        "ax.set_xticklabels(rotation=45)\n",
        "plt.show()"
      ],
      "metadata": {
        "id": "bwevp1tKp1ck"
      },
      "execution_count": null,
      "outputs": []
    },
    {
      "cell_type": "markdown",
      "source": [
        "##### 1. Why did you pick the specific chart?"
      ],
      "metadata": {
        "id": "ylSl6qgtp1ck"
      }
    },
    {
      "cell_type": "markdown",
      "source": [
        "Answer Here."
      ],
      "metadata": {
        "id": "m2xqNkiQp1ck"
      }
    },
    {
      "cell_type": "markdown",
      "source": [
        "##### 2. What is/are the insight(s) found from the chart?"
      ],
      "metadata": {
        "id": "ZWILFDl5p1ck"
      }
    },
    {
      "cell_type": "markdown",
      "source": [
        "Answer Here"
      ],
      "metadata": {
        "id": "x-lUsV2mp1ck"
      }
    },
    {
      "cell_type": "markdown",
      "source": [
        "##### 3. Will the gained insights help creating a positive business impact?\n",
        "Are there any insights that lead to negative growth? Justify with specific reason."
      ],
      "metadata": {
        "id": "M7G43BXep1ck"
      }
    },
    {
      "cell_type": "markdown",
      "source": [
        "Answer Here"
      ],
      "metadata": {
        "id": "5wwDJXsLp1cl"
      }
    },
    {
      "cell_type": "markdown",
      "source": [
        "#### Chart - 13"
      ],
      "metadata": {
        "id": "Ag9LCva-p1cl"
      }
    },
    {
      "cell_type": "code",
      "source": [
        "# Chart - 13 visualization code\n",
        "ax = sns.lineplot(x=\"iyear\",y=\"Total_Attacks\",hue='success',ci=None,data=attack_per_year)\n",
        "ax.tick_params(rotation=45)\n",
        "plt.show()"
      ],
      "metadata": {
        "id": "EUfxeq9-p1cl"
      },
      "execution_count": null,
      "outputs": []
    },
    {
      "cell_type": "code",
      "source": [
        "ax = sns.lineplot(x=\"iyear\",y=\"Total_Attacks\",ci=None,data=attack_per_year)\n",
        "ax.tick_params(rotation=45)\n",
        "plt.show()"
      ],
      "metadata": {
        "id": "Ll0_vv8N87tZ"
      },
      "execution_count": null,
      "outputs": []
    },
    {
      "cell_type": "markdown",
      "source": [
        "##### 1. Why did you pick the specific chart?"
      ],
      "metadata": {
        "id": "E6MkPsBcp1cl"
      }
    },
    {
      "cell_type": "markdown",
      "source": [
        "Answer Here."
      ],
      "metadata": {
        "id": "V22bRsFWp1cl"
      }
    },
    {
      "cell_type": "markdown",
      "source": [
        "##### 2. What is/are the insight(s) found from the chart?"
      ],
      "metadata": {
        "id": "2cELzS2fp1cl"
      }
    },
    {
      "cell_type": "markdown",
      "source": [
        "Answer Here"
      ],
      "metadata": {
        "id": "ozQPc2_Ip1cl"
      }
    },
    {
      "cell_type": "markdown",
      "source": [
        "##### 3. Will the gained insights help creating a positive business impact?\n",
        "Are there any insights that lead to negative growth? Justify with specific reason."
      ],
      "metadata": {
        "id": "3MPXvC8up1cl"
      }
    },
    {
      "cell_type": "markdown",
      "source": [
        "Answer Here"
      ],
      "metadata": {
        "id": "GL8l1tdLp1cl"
      }
    },
    {
      "cell_type": "markdown",
      "source": [
        "#### Chart - 14 - Correlation Heatmap"
      ],
      "metadata": {
        "id": "NC_X3p0fY2L0"
      }
    },
    {
      "cell_type": "code",
      "source": [
        "# Correlation Heatmap visualization code"
      ],
      "metadata": {
        "id": "xyC9zolEZNRQ"
      },
      "execution_count": null,
      "outputs": []
    },
    {
      "cell_type": "markdown",
      "source": [
        "##### 1. Why did you pick the specific chart?"
      ],
      "metadata": {
        "id": "UV0SzAkaZNRQ"
      }
    },
    {
      "cell_type": "markdown",
      "source": [
        "Answer Here."
      ],
      "metadata": {
        "id": "DVPuT8LYZNRQ"
      }
    },
    {
      "cell_type": "markdown",
      "source": [
        "##### 2. What is/are the insight(s) found from the chart?"
      ],
      "metadata": {
        "id": "YPEH6qLeZNRQ"
      }
    },
    {
      "cell_type": "markdown",
      "source": [
        "Answer Here"
      ],
      "metadata": {
        "id": "bfSqtnDqZNRR"
      }
    },
    {
      "cell_type": "markdown",
      "source": [
        "#### Chart - 15 - Pair Plot"
      ],
      "metadata": {
        "id": "q29F0dvdveiT"
      }
    },
    {
      "cell_type": "code",
      "source": [
        "# Pair Plot visualization code"
      ],
      "metadata": {
        "id": "o58-TEIhveiU"
      },
      "execution_count": null,
      "outputs": []
    },
    {
      "cell_type": "markdown",
      "source": [
        "##### 1. Why did you pick the specific chart?"
      ],
      "metadata": {
        "id": "EXh0U9oCveiU"
      }
    },
    {
      "cell_type": "markdown",
      "source": [
        "Answer Here."
      ],
      "metadata": {
        "id": "eMmPjTByveiU"
      }
    },
    {
      "cell_type": "markdown",
      "source": [
        "##### 2. What is/are the insight(s) found from the chart?"
      ],
      "metadata": {
        "id": "22aHeOlLveiV"
      }
    },
    {
      "cell_type": "markdown",
      "source": [
        "Answer Here"
      ],
      "metadata": {
        "id": "uPQ8RGwHveiV"
      }
    },
    {
      "cell_type": "markdown",
      "source": [
        "## **5. Solution to Business Objective**"
      ],
      "metadata": {
        "id": "JcMwzZxoAimU"
      }
    },
    {
      "cell_type": "markdown",
      "source": [
        "#### What do you suggest the client to achieve Business Objective ?\n",
        "Explain Briefly."
      ],
      "metadata": {
        "id": "8G2x9gOozGDZ"
      }
    },
    {
      "cell_type": "markdown",
      "source": [
        "Answer Here."
      ],
      "metadata": {
        "id": "pASKb0qOza21"
      }
    },
    {
      "cell_type": "markdown",
      "source": [
        "# **Conclusion**"
      ],
      "metadata": {
        "id": "gCX9965dhzqZ"
      }
    },
    {
      "cell_type": "markdown",
      "source": [
        "Write the conclusion here."
      ],
      "metadata": {
        "id": "Fjb1IsQkh3yE"
      }
    },
    {
      "cell_type": "markdown",
      "source": [
        "### ***Hurrah! You have successfully completed your EDA Capstone Project !!!***"
      ],
      "metadata": {
        "id": "gIfDvo9L0UH2"
      }
    }
  ]
}